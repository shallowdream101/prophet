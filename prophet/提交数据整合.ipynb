{
 "cells": [
  {
   "cell_type": "code",
   "execution_count": 1,
   "metadata": {},
   "outputs": [],
   "source": [
    "import numpy as np\n",
    "import pandas as pd"
   ]
  },
  {
   "cell_type": "code",
   "execution_count": 2,
   "metadata": {},
   "outputs": [
    {
     "data": {
      "text/plain": [
       "'\\nre=np.zeros((44,2))\\nre=pd.DataFrame(re)\\nre.columns=[\"ID\",\"VALUE\"]\\nre[\"ID\"]=[\"Week_EXT_hot#1\",\"Week_EXT_hot#2\",\"Week_EXT_hot#3\",\"Week_EXT_hot#4\",\"Week_IN_hot#1\",\"Week_IN_hot#2\",\"Week_IN_hot#3\",\"Week_IN_hot#4\",\\n          \"Week_EXT_cool#1\",\"Week_EXT_cool#2\",\"Week_EXT_cool#3\",\"Week_EXT_cool#4\",\"Week_IN_cool#1\",\"Week_IN_cool#2\",\"Week_IN_cool#3\",\"Week_IN_cool#4\",\\n         \"Day_IN_hot#1\",\"Day_IN_hot#2\",\"Day_IN_hot#3\",\"Day_IN_hot#4\",\"Day_IN_hot#5\",\"Day_IN_hot#6\",\"Day_IN_hot#7\",\\n         \"Day_EXT_hot#1\",\"Day_EXT_hot#2\",\"Day_EXT_hot#3\",\"Day_EXT_hot#4\",\"Day_EXT_hot#5\",\"Day_EXT_hot#6\",\"Day_EXT_hot#7\",\\n          \"Day_IN_cool#1\",\"Day_IN_cool#2\",\"Day_IN_cool#3\",\"Day_IN_cool#4\",\"Day_IN_cool#5\",\"Day_IN_cool#6\",\"Day_IN_cool#7\",\\n         \"Day_EXT_cool#1\",\"Day_EXT_cool#2\",\"Day_EXT_cool#3\",\"Day_EXT_cool#4\",\"Day_EXT_cool#5\",\"Day_EXT_cool#6\",\"Day_EXT_cool#7\",\\n         ]\\n'"
      ]
     },
     "execution_count": 2,
     "metadata": {},
     "output_type": "execute_result"
    }
   ],
   "source": [
    "'''\n",
    "re=np.zeros((44,2))\n",
    "re=pd.DataFrame(re)\n",
    "re.columns=[\"ID\",\"VALUE\"]\n",
    "re[\"ID\"]=[\"Week_EXT_hot#1\",\"Week_EXT_hot#2\",\"Week_EXT_hot#3\",\"Week_EXT_hot#4\",\"Week_IN_hot#1\",\"Week_IN_hot#2\",\"Week_IN_hot#3\",\"Week_IN_hot#4\",\n",
    "          \"Week_EXT_cool#1\",\"Week_EXT_cool#2\",\"Week_EXT_cool#3\",\"Week_EXT_cool#4\",\"Week_IN_cool#1\",\"Week_IN_cool#2\",\"Week_IN_cool#3\",\"Week_IN_cool#4\",\n",
    "         \"Day_IN_hot#1\",\"Day_IN_hot#2\",\"Day_IN_hot#3\",\"Day_IN_hot#4\",\"Day_IN_hot#5\",\"Day_IN_hot#6\",\"Day_IN_hot#7\",\n",
    "         \"Day_EXT_hot#1\",\"Day_EXT_hot#2\",\"Day_EXT_hot#3\",\"Day_EXT_hot#4\",\"Day_EXT_hot#5\",\"Day_EXT_hot#6\",\"Day_EXT_hot#7\",\n",
    "          \"Day_IN_cool#1\",\"Day_IN_cool#2\",\"Day_IN_cool#3\",\"Day_IN_cool#4\",\"Day_IN_cool#5\",\"Day_IN_cool#6\",\"Day_IN_cool#7\",\n",
    "         \"Day_EXT_cool#1\",\"Day_EXT_cool#2\",\"Day_EXT_cool#3\",\"Day_EXT_cool#4\",\"Day_EXT_cool#5\",\"Day_EXT_cool#6\",\"Day_EXT_cool#7\",\n",
    "         ]\n",
    "'''"
   ]
  },
  {
   "cell_type": "code",
   "execution_count": 3,
   "metadata": {},
   "outputs": [],
   "source": [
    "re=pd.read_csv(\"./moban/result.csv\")"
   ]
  },
  {
   "cell_type": "code",
   "execution_count": 4,
   "metadata": {},
   "outputs": [
    {
     "data": {
      "text/plain": [
       "'Week_EXT_hot_#1'"
      ]
     },
     "execution_count": 4,
     "metadata": {},
     "output_type": "execute_result"
    }
   ],
   "source": [
    "re.ID[0]"
   ]
  },
  {
   "cell_type": "code",
   "execution_count": 5,
   "metadata": {},
   "outputs": [],
   "source": [
    "re.index=re.ID"
   ]
  },
  {
   "cell_type": "code",
   "execution_count": 6,
   "metadata": {},
   "outputs": [],
   "source": [
    "Day_EXT_hot=pd.read_csv(\"result_hot_ext_week.csv\")\n",
    "Day_EXT_hot=Day_EXT_hot.iloc[:7,:]\n",
    "Day_EXT_hot.index=['Day_EXT_hot_#'+str(i) for i in range(1,8)]\n",
    "for i in Day_EXT_hot.index:\n",
    "    re.loc[i,'VALUE']=Day_EXT_hot.loc[i,'hot_ext_week']"
   ]
  },
  {
   "cell_type": "code",
   "execution_count": 7,
   "metadata": {},
   "outputs": [],
   "source": [
    "Day_IN_hot=pd.read_csv(\"result_hot_in_week.csv\")\n",
    "Day_IN_hot=Day_IN_hot.iloc[:7,:]\n",
    "Day_IN_hot.index=['Day_IN_hot_#'+str(i) for i in range(1,8)]\n",
    "for i in Day_IN_hot.index:\n",
    "    re.loc[i,'VALUE']=Day_IN_hot.loc[i,'hot_in_week']"
   ]
  },
  {
   "cell_type": "code",
   "execution_count": 8,
   "metadata": {},
   "outputs": [],
   "source": [
    "Day_EXT_cool=pd.read_csv(\"result_cool_ext_week.csv\")\n",
    "Day_EXT_cool=Day_EXT_cool.iloc[:7,:]\n",
    "Day_EXT_cool.index=['Day_EXT_cool_#'+str(i) for i in range(1,8)]\n",
    "for i in Day_EXT_cool.index:\n",
    "    re.loc[i,'VALUE']=Day_EXT_cool.loc[i,'cool_ext_week']"
   ]
  },
  {
   "cell_type": "code",
   "execution_count": 9,
   "metadata": {},
   "outputs": [],
   "source": [
    "Day_IN_cool=pd.read_csv(\"result_cool_in_week.csv\")\n",
    "Day_IN_cool=Day_IN_cool.iloc[:7,:]\n",
    "Day_IN_cool.index=['Day_IN_cool_#'+str(i) for i in range(1,8)]\n",
    "for i in Day_IN_cool.index:\n",
    "    re.loc[i,'VALUE']=Day_IN_cool.loc[i,'cool_in_week']"
   ]
  },
  {
   "cell_type": "code",
   "execution_count": 10,
   "metadata": {},
   "outputs": [],
   "source": [
    "Week_EXT_hot=pd.read_csv(\"result_hot_ext_week.csv\")\n",
    "Week_EXT_hot=pd.DataFrame(np.array(Week_EXT_hot['hot_ext_week']).reshape(-1,7).sum(axis=1))\n",
    "Week_EXT_hot.columns=['hot_ext_week']\n",
    "Week_EXT_hot.index=['Week_EXT_hot_#'+str(i) for i in range(1,5)]\n",
    "for i in Week_EXT_hot.index:\n",
    "    re.loc[i,'VALUE']=Week_EXT_hot.loc[i,'hot_ext_week']"
   ]
  },
  {
   "cell_type": "code",
   "execution_count": 11,
   "metadata": {},
   "outputs": [],
   "source": [
    "Week_IN_hot=pd.read_csv(\"result_hot_in_week.csv\")\n",
    "Week_IN_hot=pd.DataFrame(np.array(Week_IN_hot['hot_in_week']).reshape(-1,7).sum(axis=1))\n",
    "Week_IN_hot.columns=['hot_in_week']\n",
    "Week_IN_hot.index=['Week_IN_hot_#'+str(i) for i in range(1,5)]\n",
    "for i in Week_IN_hot.index:\n",
    "    re.loc[i,'VALUE']=Week_IN_hot.loc[i,'hot_in_week']"
   ]
  },
  {
   "cell_type": "code",
   "execution_count": 12,
   "metadata": {},
   "outputs": [],
   "source": [
    "Week_EXT_cool=pd.read_csv(\"result_cool_ext_week.csv\")\n",
    "Week_EXT_cool=pd.DataFrame(np.array(Week_EXT_cool['cool_ext_week']).reshape(-1,7).sum(axis=1))\n",
    "Week_EXT_cool.columns=['cool_ext_week']\n",
    "Week_EXT_cool.index=['Week_EXT_cool_#'+str(i) for i in range(1,5)]\n",
    "for i in Week_EXT_cool.index:\n",
    "    re.loc[i,'VALUE']=Week_EXT_cool.loc[i,'cool_ext_week']"
   ]
  },
  {
   "cell_type": "code",
   "execution_count": 13,
   "metadata": {},
   "outputs": [],
   "source": [
    "Week_IN_cool=pd.read_csv(\"result_cool_in_week.csv\")\n",
    "Week_IN_cool=pd.DataFrame(np.array(Week_IN_cool['cool_in_week']).reshape(-1,7).sum(axis=1))\n",
    "Week_IN_cool.columns=['cool_in_week']\n",
    "Week_IN_cool.index=['Week_IN_cool_#'+str(i) for i in range(1,5)]\n",
    "for i in Week_IN_cool.index:\n",
    "    re.loc[i,'VALUE']=Week_IN_cool.loc[i,'cool_in_week']"
   ]
  },
  {
   "cell_type": "code",
   "execution_count": 14,
   "metadata": {},
   "outputs": [],
   "source": [
    "re.to_csv(\"result.csv\",index=False)"
   ]
  }
 ],
 "metadata": {
  "kernelspec": {
   "display_name": "Python 3",
   "language": "python",
   "name": "python3"
  },
  "language_info": {
   "codemirror_mode": {
    "name": "ipython",
    "version": 3
   },
   "file_extension": ".py",
   "mimetype": "text/x-python",
   "name": "python",
   "nbconvert_exporter": "python",
   "pygments_lexer": "ipython3",
   "version": "3.6.5"
  }
 },
 "nbformat": 4,
 "nbformat_minor": 2
}
